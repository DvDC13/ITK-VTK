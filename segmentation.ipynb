{
 "cells": [
  {
   "cell_type": "markdown",
   "metadata": {},
   "source": [
    "# **PROJET ITK-VTK**\n",
    "\n",
    "## Auteurs\n",
    "### Majeure IMAGE\n",
    "\n",
    "- David CHEMALY\n",
    "    - login: david.chemaly\n",
    "<br /> <br />\n",
    "- Thuraya SHANBARI\n",
    "    - login: thuraya.shanbari"
   ]
  },
  {
   "cell_type": "markdown",
   "metadata": {},
   "source": [
    "# Partie 2\n",
    "---"
   ]
  },
  {
   "cell_type": "markdown",
   "metadata": {},
   "source": [
    "## Import des librairies"
   ]
  },
  {
   "cell_type": "code",
   "execution_count": 3,
   "metadata": {},
   "outputs": [
    {
     "data": {
      "text/plain": [
       "'5.3.0'"
      ]
     },
     "execution_count": 3,
     "metadata": {},
     "output_type": "execute_result"
    }
   ],
   "source": [
    "import itk\n",
    "itk.Version.GetITKVersion()"
   ]
  },
  {
   "cell_type": "code",
   "execution_count": 4,
   "metadata": {},
   "outputs": [
    {
     "data": {
      "text/plain": [
       "'9.2.6'"
      ]
     },
     "execution_count": 4,
     "metadata": {},
     "output_type": "execute_result"
    }
   ],
   "source": [
    "import vtk\n",
    "vtk.vtkVersion.GetVTKVersion()"
   ]
  },
  {
   "cell_type": "code",
   "execution_count": 5,
   "metadata": {},
   "outputs": [
    {
     "data": {
      "text/plain": [
       "'3.7.1'"
      ]
     },
     "execution_count": 5,
     "metadata": {},
     "output_type": "execute_result"
    }
   ],
   "source": [
    "import matplotlib\n",
    "import matplotlib.pyplot as plt\n",
    "\n",
    "matplotlib.__version__"
   ]
  },
  {
   "cell_type": "markdown",
   "metadata": {},
   "source": [
    "## Paramètres"
   ]
  },
  {
   "cell_type": "code",
   "execution_count": 6,
   "metadata": {},
   "outputs": [],
   "source": [
    "image1_path = 'Data/case6_gre1.nrrd'\n",
    "image2_path = 'Data/case6_gre2.nrrd'\n",
    "\n",
    "Dimension = 3\n",
    "PixelType = itk.ctype('float')\n",
    "ImageType = itk.Image[PixelType, Dimension]"
   ]
  },
  {
   "cell_type": "markdown",
   "metadata": {},
   "source": [
    "## Chargement des données"
   ]
  },
  {
   "cell_type": "code",
   "execution_count": 7,
   "metadata": {},
   "outputs": [],
   "source": [
    "def read_file(file_path):\n",
    "    readerType = itk.ImageFileReader[ImageType]\n",
    "    reader = readerType.New()\n",
    "    reader.SetFileName(file_path)\n",
    "    reader.Update()\n",
    "    image = reader.GetOutput()\n",
    "    return image"
   ]
  },
  {
   "cell_type": "code",
   "execution_count": 8,
   "metadata": {},
   "outputs": [
    {
     "name": "stdout",
     "output_type": "stream",
     "text": [
      "image1 size: itkSize3 ([256, 256, 176])\n",
      "image2 size: itkSize3 ([256, 256, 176])\n"
     ]
    }
   ],
   "source": [
    "image1 = read_file(image1_path)\n",
    "image2 = read_file(image2_path)\n",
    "\n",
    "print(\"image1 size: \" + str(image1.GetLargestPossibleRegion().GetSize()))\n",
    "print(\"image2 size: \" + str(image2.GetLargestPossibleRegion().GetSize()))"
   ]
  },
  {
   "cell_type": "markdown",
   "metadata": {},
   "source": [
    "## Affichage des données"
   ]
  },
  {
   "cell_type": "code",
   "execution_count": 9,
   "metadata": {},
   "outputs": [],
   "source": [
    "def display_image(image, slice_number):\n",
    "    plt.imshow(image[slice_number,:,:], cmap='gray')\n",
    "    plt.show()"
   ]
  },
  {
   "cell_type": "markdown",
   "metadata": {},
   "source": [
    "## Pipeline"
   ]
  },
  {
   "cell_type": "markdown",
   "metadata": {},
   "source": [
    "### 1. Segmentation Watershed"
   ]
  },
  {
   "cell_type": "code",
   "execution_count": 10,
   "metadata": {},
   "outputs": [],
   "source": [
    "def segmentation_watershed(image):\n",
    "\n",
    "    InternalPixelType = itk.F\n",
    "    InternalImageType = itk.Image[InternalPixelType, Dimension]\n",
    "\n",
    "    GradientMagnitudeImageFilterType = itk.GradientMagnitudeRecursiveGaussianImageFilter[InternalImageType, InternalImageType]\n",
    "    gradientMagnitudeImageFilter = GradientMagnitudeImageFilterType.New()\n",
    "    gradientMagnitudeImageFilter.SetInput(image)\n",
    "    gradientMagnitudeImageFilter.SetSigma(1.0)\n",
    "\n",
    "    WatershedFilterType = itk.WatershedImageFilter[InternalImageType]\n",
    "    watershedFilter = WatershedFilterType.New()\n",
    "\n",
    "    watershedFilter.SetInput(gradientMagnitudeImageFilter.GetOutput())\n",
    "    watershedFilter.SetThreshold(0.01)\n",
    "    watershedFilter.SetLevel(0.2)\n",
    "\n",
    "    watershedFilter.Update()\n",
    "\n",
    "    return watershedFilter.GetOutput()"
   ]
  },
  {
   "cell_type": "markdown",
   "metadata": {},
   "source": [
    "### 2. Segmentation Connected Threshold"
   ]
  },
  {
   "cell_type": "code",
   "execution_count": 11,
   "metadata": {},
   "outputs": [],
   "source": [
    "def segmentation_connected_threshold(image, seed, lower, upper):\n",
    "\n",
    "    InternalPixelType = itk.F\n",
    "    InternalImageType = itk.Image[InternalPixelType, Dimension]\n",
    "\n",
    "    CurvatureFlowImageFilterType = itk.CurvatureFlowImageFilter[InternalImageType, InternalImageType]\n",
    "    smoothing = CurvatureFlowImageFilterType.New()\n",
    "\n",
    "    ConnectedFilterType = itk.ConnectedThresholdImageFilter[InternalImageType, InternalImageType]\n",
    "    connectedThreshold = ConnectedFilterType.New()\n",
    "\n",
    "    smoothing.SetInput(image)\n",
    "    smoothing.SetNumberOfIterations(5)\n",
    "    smoothing.SetTimeStep(0.125)\n",
    "\n",
    "    connectedThreshold.SetInput(smoothing.GetOutput())\n",
    "    connectedThreshold.SetLower(lower)\n",
    "    connectedThreshold.SetUpper(upper)\n",
    "    connectedThreshold.SetReplaceValue(255)\n",
    "    connectedThreshold.AddSeed(seed)\n",
    "\n",
    "    connectedThreshold.Update()\n",
    "\n",
    "    return connectedThreshold.GetOutput()"
   ]
  },
  {
   "cell_type": "code",
   "execution_count": null,
   "metadata": {},
   "outputs": [],
   "source": []
  }
 ],
 "metadata": {
  "kernelspec": {
   "display_name": "Python 3",
   "language": "python",
   "name": "python3"
  },
  "language_info": {
   "codemirror_mode": {
    "name": "ipython",
    "version": 3
   },
   "file_extension": ".py",
   "mimetype": "text/x-python",
   "name": "python",
   "nbconvert_exporter": "python",
   "pygments_lexer": "ipython3",
   "version": "3.10.6"
  },
  "orig_nbformat": 4
 },
 "nbformat": 4,
 "nbformat_minor": 2
}
